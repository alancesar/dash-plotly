{
 "cells": [
  {
   "cell_type": "code",
   "execution_count": 3,
   "id": "bd230c23",
   "metadata": {},
   "outputs": [
    {
     "name": "stdout",
     "output_type": "stream",
     "text": [
      "Collecting jupyter_dash\n",
      "  Downloading jupyter_dash-0.4.2-py3-none-any.whl (23 kB)\n",
      "Requirement already satisfied: dash in /Users/alancesar/anaconda3/lib/python3.11/site-packages (from jupyter_dash) (2.7.0)\n",
      "Requirement already satisfied: requests in /Users/alancesar/anaconda3/lib/python3.11/site-packages (from jupyter_dash) (2.29.0)\n",
      "Requirement already satisfied: flask in /Users/alancesar/anaconda3/lib/python3.11/site-packages (from jupyter_dash) (2.2.2)\n",
      "Collecting retrying (from jupyter_dash)\n",
      "  Downloading retrying-1.3.4-py3-none-any.whl (11 kB)\n",
      "Requirement already satisfied: ipython in /Users/alancesar/anaconda3/lib/python3.11/site-packages (from jupyter_dash) (8.12.0)\n",
      "Requirement already satisfied: ipykernel in /Users/alancesar/anaconda3/lib/python3.11/site-packages (from jupyter_dash) (6.19.2)\n",
      "Collecting ansi2html (from jupyter_dash)\n",
      "  Downloading ansi2html-1.8.0-py3-none-any.whl (16 kB)\n",
      "Requirement already satisfied: nest-asyncio in /Users/alancesar/anaconda3/lib/python3.11/site-packages (from jupyter_dash) (1.5.6)\n",
      "Requirement already satisfied: plotly>=5.0.0 in /Users/alancesar/anaconda3/lib/python3.11/site-packages (from dash->jupyter_dash) (5.9.0)\n",
      "Requirement already satisfied: Werkzeug>=2.2.2 in /Users/alancesar/anaconda3/lib/python3.11/site-packages (from flask->jupyter_dash) (2.2.3)\n",
      "Requirement already satisfied: Jinja2>=3.0 in /Users/alancesar/anaconda3/lib/python3.11/site-packages (from flask->jupyter_dash) (3.1.2)\n",
      "Requirement already satisfied: itsdangerous>=2.0 in /Users/alancesar/anaconda3/lib/python3.11/site-packages (from flask->jupyter_dash) (2.0.1)\n",
      "Requirement already satisfied: click>=8.0 in /Users/alancesar/anaconda3/lib/python3.11/site-packages (from flask->jupyter_dash) (8.0.4)\n",
      "Requirement already satisfied: appnope in /Users/alancesar/anaconda3/lib/python3.11/site-packages (from ipykernel->jupyter_dash) (0.1.2)\n",
      "Requirement already satisfied: comm>=0.1.1 in /Users/alancesar/anaconda3/lib/python3.11/site-packages (from ipykernel->jupyter_dash) (0.1.2)\n",
      "Requirement already satisfied: debugpy>=1.0 in /Users/alancesar/anaconda3/lib/python3.11/site-packages (from ipykernel->jupyter_dash) (1.5.1)\n",
      "Requirement already satisfied: jupyter-client>=6.1.12 in /Users/alancesar/anaconda3/lib/python3.11/site-packages (from ipykernel->jupyter_dash) (7.4.9)\n",
      "Requirement already satisfied: matplotlib-inline>=0.1 in /Users/alancesar/anaconda3/lib/python3.11/site-packages (from ipykernel->jupyter_dash) (0.1.6)\n",
      "Requirement already satisfied: packaging in /Users/alancesar/anaconda3/lib/python3.11/site-packages (from ipykernel->jupyter_dash) (23.0)\n",
      "Requirement already satisfied: psutil in /Users/alancesar/anaconda3/lib/python3.11/site-packages (from ipykernel->jupyter_dash) (5.9.0)\n",
      "Requirement already satisfied: pyzmq>=17 in /Users/alancesar/anaconda3/lib/python3.11/site-packages (from ipykernel->jupyter_dash) (23.2.0)\n",
      "Requirement already satisfied: tornado>=6.1 in /Users/alancesar/anaconda3/lib/python3.11/site-packages (from ipykernel->jupyter_dash) (6.2)\n",
      "Requirement already satisfied: traitlets>=5.4.0 in /Users/alancesar/anaconda3/lib/python3.11/site-packages (from ipykernel->jupyter_dash) (5.7.1)\n",
      "Requirement already satisfied: backcall in /Users/alancesar/anaconda3/lib/python3.11/site-packages (from ipython->jupyter_dash) (0.2.0)\n",
      "Requirement already satisfied: decorator in /Users/alancesar/anaconda3/lib/python3.11/site-packages (from ipython->jupyter_dash) (5.1.1)\n",
      "Requirement already satisfied: jedi>=0.16 in /Users/alancesar/anaconda3/lib/python3.11/site-packages (from ipython->jupyter_dash) (0.18.1)\n",
      "Requirement already satisfied: pickleshare in /Users/alancesar/anaconda3/lib/python3.11/site-packages (from ipython->jupyter_dash) (0.7.5)\n",
      "Requirement already satisfied: prompt-toolkit!=3.0.37,<3.1.0,>=3.0.30 in /Users/alancesar/anaconda3/lib/python3.11/site-packages (from ipython->jupyter_dash) (3.0.36)\n",
      "Requirement already satisfied: pygments>=2.4.0 in /Users/alancesar/anaconda3/lib/python3.11/site-packages (from ipython->jupyter_dash) (2.15.1)\n",
      "Requirement already satisfied: stack-data in /Users/alancesar/anaconda3/lib/python3.11/site-packages (from ipython->jupyter_dash) (0.2.0)\n",
      "Requirement already satisfied: pexpect>4.3 in /Users/alancesar/anaconda3/lib/python3.11/site-packages (from ipython->jupyter_dash) (4.8.0)\n",
      "Requirement already satisfied: charset-normalizer<4,>=2 in /Users/alancesar/anaconda3/lib/python3.11/site-packages (from requests->jupyter_dash) (2.0.4)\n",
      "Requirement already satisfied: idna<4,>=2.5 in /Users/alancesar/anaconda3/lib/python3.11/site-packages (from requests->jupyter_dash) (3.4)\n",
      "Requirement already satisfied: urllib3<1.27,>=1.21.1 in /Users/alancesar/anaconda3/lib/python3.11/site-packages (from requests->jupyter_dash) (1.26.16)\n",
      "Requirement already satisfied: certifi>=2017.4.17 in /Users/alancesar/anaconda3/lib/python3.11/site-packages (from requests->jupyter_dash) (2023.7.22)\n",
      "Requirement already satisfied: six>=1.7.0 in /Users/alancesar/anaconda3/lib/python3.11/site-packages (from retrying->jupyter_dash) (1.16.0)\n",
      "Requirement already satisfied: parso<0.9.0,>=0.8.0 in /Users/alancesar/anaconda3/lib/python3.11/site-packages (from jedi>=0.16->ipython->jupyter_dash) (0.8.3)\n",
      "Requirement already satisfied: MarkupSafe>=2.0 in /Users/alancesar/anaconda3/lib/python3.11/site-packages (from Jinja2>=3.0->flask->jupyter_dash) (2.1.1)\n",
      "Requirement already satisfied: entrypoints in /Users/alancesar/anaconda3/lib/python3.11/site-packages (from jupyter-client>=6.1.12->ipykernel->jupyter_dash) (0.4)\n",
      "Requirement already satisfied: jupyter-core>=4.9.2 in /Users/alancesar/anaconda3/lib/python3.11/site-packages (from jupyter-client>=6.1.12->ipykernel->jupyter_dash) (5.3.0)\n",
      "Requirement already satisfied: python-dateutil>=2.8.2 in /Users/alancesar/anaconda3/lib/python3.11/site-packages (from jupyter-client>=6.1.12->ipykernel->jupyter_dash) (2.8.2)\n",
      "Requirement already satisfied: ptyprocess>=0.5 in /Users/alancesar/anaconda3/lib/python3.11/site-packages (from pexpect>4.3->ipython->jupyter_dash) (0.7.0)\n",
      "Requirement already satisfied: tenacity>=6.2.0 in /Users/alancesar/anaconda3/lib/python3.11/site-packages (from plotly>=5.0.0->dash->jupyter_dash) (8.2.2)\n",
      "Requirement already satisfied: wcwidth in /Users/alancesar/anaconda3/lib/python3.11/site-packages (from prompt-toolkit!=3.0.37,<3.1.0,>=3.0.30->ipython->jupyter_dash) (0.2.5)\n",
      "Requirement already satisfied: executing in /Users/alancesar/anaconda3/lib/python3.11/site-packages (from stack-data->ipython->jupyter_dash) (0.8.3)\n",
      "Requirement already satisfied: asttokens in /Users/alancesar/anaconda3/lib/python3.11/site-packages (from stack-data->ipython->jupyter_dash) (2.0.5)\n",
      "Requirement already satisfied: pure-eval in /Users/alancesar/anaconda3/lib/python3.11/site-packages (from stack-data->ipython->jupyter_dash) (0.2.2)\n",
      "Requirement already satisfied: platformdirs>=2.5 in /Users/alancesar/anaconda3/lib/python3.11/site-packages (from jupyter-core>=4.9.2->jupyter-client>=6.1.12->ipykernel->jupyter_dash) (2.5.2)\n",
      "Installing collected packages: retrying, ansi2html, jupyter_dash\n",
      "Successfully installed ansi2html-1.8.0 jupyter_dash-0.4.2 retrying-1.3.4\n"
     ]
    }
   ],
   "source": [
    "!pip install jupyter_dash"
   ]
  },
  {
   "cell_type": "code",
   "execution_count": 13,
   "id": "1fc2575b",
   "metadata": {
    "scrolled": true
   },
   "outputs": [
    {
     "data": {
      "text/html": [
       "\n",
       "        <iframe\n",
       "            width=\"100%\"\n",
       "            height=\"650\"\n",
       "            src=\"http://127.0.0.1:8050/\"\n",
       "            frameborder=\"0\"\n",
       "            allowfullscreen\n",
       "            \n",
       "        ></iframe>\n",
       "        "
      ],
      "text/plain": [
       "<IPython.lib.display.IFrame at 0x121c36dd0>"
      ]
     },
     "metadata": {},
     "output_type": "display_data"
    },
    {
     "name": "stdout",
     "output_type": "stream",
     "text": [
      "\u001b[1;31m---------------------------------------------------------------------------\u001b[0m\n",
      "\u001b[1;31mNameError\u001b[0m                                 Traceback (most recent call last)\n",
      "\u001b[1;31mNameError\u001b[0m: name 'PreventUpdate' is not defined\n",
      "\n"
     ]
    }
   ],
   "source": [
    "from dash import Dash, html, dcc\n",
    "from dash.dependencies import Output, Input\n",
    "from jupyter_dash import JupyterDash\n",
    "import plotly.express as px\n",
    "import pandas as pd\n",
    "\n",
    "app = JupyterDash(__name__)\n",
    "app.layout = html.Div(\n",
    "    [\n",
    "        dcc.Dropdown(\n",
    "            options=[\"Red\", \"Green\", \"Blue\"],\n",
    "            id=\"color-input\"\n",
    "        ),\n",
    "    html.H3(id=\"color-output\")\n",
    "    ]\n",
    ")\n",
    "\n",
    "@app.callback(\n",
    "    Output(\"color-output\", \"children\"),\n",
    "    Input(\"color-input\", \"value\")\n",
    ")\n",
    "def update_output_div(color):\n",
    "    if not color:\n",
    "        raise PreventUpdate\n",
    "    \n",
    "    return f\"Color Selected: {color}\"\n",
    "\n",
    "if __name__ == \"__main__\":\n",
    "    app.run_server(mode=\"inline\")"
   ]
  },
  {
   "cell_type": "code",
   "execution_count": null,
   "id": "80b159c6",
   "metadata": {},
   "outputs": [],
   "source": []
  }
 ],
 "metadata": {
  "kernelspec": {
   "display_name": "Python 3 (ipykernel)",
   "language": "python",
   "name": "python3"
  },
  "language_info": {
   "codemirror_mode": {
    "name": "ipython",
    "version": 3
   },
   "file_extension": ".py",
   "mimetype": "text/x-python",
   "name": "python",
   "nbconvert_exporter": "python",
   "pygments_lexer": "ipython3",
   "version": "3.11.3"
  }
 },
 "nbformat": 4,
 "nbformat_minor": 5
}
